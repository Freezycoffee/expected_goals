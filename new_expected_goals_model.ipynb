{
  "nbformat": 4,
  "nbformat_minor": 0,
  "metadata": {
    "colab": {
      "provenance": [],
      "collapsed_sections": [
        "GsOHx68_pKb0",
        "C2OFlhUPpSUT",
        "-dFn9y6QowVj"
      ]
    },
    "kernelspec": {
      "name": "python3",
      "display_name": "Python 3"
    },
    "language_info": {
      "name": "python"
    }
  },
  "cells": [
    {
      "cell_type": "code",
      "execution_count": 55,
      "metadata": {
        "id": "u1T4u83zw9g4"
      },
      "outputs": [],
      "source": [
        "import pandas as pd\n",
        "import numpy as np\n",
        "import torch\n",
        "from torch import nn\n",
        "from sklearn.model_selection import train_test_split\n",
        "\n",
        "pd.set_option('display.max_columns', None)"
      ]
    },
    {
      "cell_type": "code",
      "source": [
        "PATH = '/content/drive/MyDrive/Colab Notebooks/Football/FIFA U-17/Data'\n",
        "filedata = '/shots_fifa_u_17.xlsx'\n",
        "df = pd.read_excel(PATH+filedata,sheet_name='Sheet1')"
      ],
      "metadata": {
        "id": "bU76-5R2zMxb"
      },
      "execution_count": 60,
      "outputs": []
    },
    {
      "cell_type": "markdown",
      "source": [
        "# Pipeline"
      ],
      "metadata": {
        "id": "GsOHx68_pKb0"
      }
    },
    {
      "cell_type": "code",
      "source": [
        "class xgModel(nn.Module):\n",
        "    def __init__(self):\n",
        "        super().__init__()\n",
        "        self.linear1 = nn.Linear(23, 64)\n",
        "        self.linear2 = nn.Linear(64, 128)\n",
        "        self.linear3 = nn.Linear(128, 96)\n",
        "        self.linear4 = nn.Linear(96, 32)\n",
        "        self.linear5 = nn.Linear(32, 1)\n",
        "        self.relu = nn.Sigmoid()\n",
        "        self.dropout = nn.Dropout(p=0.25)\n",
        "    def forward(self, x):\n",
        "        return self.linear5(self.relu(self.linear4(self.dropout(self.relu(self.linear3(self.dropout(self.relu(self.linear2(self.dropout(self.relu(self.linear1(x))))))))))))"
      ],
      "metadata": {
        "id": "RI5xyZPSCr23"
      },
      "execution_count": 9,
      "outputs": []
    },
    {
      "cell_type": "code",
      "source": [
        "device = 'cuda' if torch.cuda.is_available() else 'cpu'\n",
        "model = xgModel().to(device)"
      ],
      "metadata": {
        "id": "aoeqDGeichHJ"
      },
      "execution_count": null,
      "outputs": []
    },
    {
      "cell_type": "code",
      "source": [
        "def preprocessing(dataframe):\n",
        "  data = dataframe[['position', 'player_x', 'player_y', 'situation', 'bodyPart', 'goalMouth_y', 'goalMouth_z','shotType']]\n",
        "  data = data[data['situation']!='shootout']\n",
        "  data['goal'] = data['shotType'].apply(lambda x: 1 if x=='goal' else 0)\n",
        "  data.drop(columns=['shotType'],inplace=True)\n",
        "\n",
        "  # using statsbomb pitch coordinate\n",
        "  data['player_x'] = data['player_x']*1.2\n",
        "  data['player_y'] = data['player_y']*0.8\n",
        "  data['goalMouth_y'] = data['goalMouth_y']*0.8\n",
        "\n",
        "  #calculate distance to each post\n",
        "  data['distanceToPostLeft'] = np.sqrt((data['player_x']**2 + (data['player_y']-36)**2))\n",
        "  data['distanceToPostRight'] = np.sqrt((data['player_x']**2 + (data['player_y']-44)**2))\n",
        "\n",
        "  # calculate the angle\n",
        "  data['angle'] = np.arccos((data['distanceToPostLeft']**2+data['distanceToPostRight']**2-64)/(2*data['distanceToPostLeft']*data['distanceToPostRight']))*180/np.pi\n",
        "\n",
        "  return data\n",
        "\n",
        "def encode_data(dataframe):\n",
        "  num_col_names = ['player_x','player_y','goalMouth_y','goalMouth_z','distanceToPostLeft','distanceToPostRight','angle']\n",
        "  cat_col_names = ['position','situation','bodyPart']\n",
        "  data = pd.get_dummies(dataframe,columns=cat_col_names)\n",
        "\n",
        "  return data\n",
        "\n",
        "def tensor_data(data):\n",
        "  return torch.tensor(data.values.astype(np.float32))\n"
      ],
      "metadata": {
        "id": "LK0K13TlUh0h"
      },
      "execution_count": 70,
      "outputs": []
    },
    {
      "cell_type": "code",
      "source": [
        "def accuracy_fn(y_true, y_pred):\n",
        "    correct = torch.eq(y_true, y_pred).sum().item()\n",
        "    acc = correct / len(y_pred) * 100\n",
        "    return acc"
      ],
      "metadata": {
        "id": "d8-N9FItDV7V"
      },
      "execution_count": 13,
      "outputs": []
    },
    {
      "cell_type": "code",
      "source": [
        "def train_model(x_train, x_valid, y_train, y_valid, epochs, learning_rate):\n",
        "  loss_fn = nn.BCEWithLogitsLoss()\n",
        "  optimizer = torch.optim.AdamW(params=model.parameters(), lr=learning_rate)\n",
        "\n",
        "  # Send data to the device\n",
        "  x_train, x_valid = x_train.to(device), x_valid.to(device)\n",
        "  y_train, y_valid = y_train.to(device), y_valid.to(device)\n",
        "\n",
        "\n",
        "  # Empty loss lists to track values\n",
        "  epoch_count, train_loss_values, valid_loss_values = [], [], []\n",
        "\n",
        "  # Loop through the data\n",
        "  for epoch in range(epochs):\n",
        "\n",
        "      # Put the model in training mode\n",
        "      model.train()\n",
        "\n",
        "      y_logits = model(x_train).squeeze() # forward pass to get predictions; squeeze the logits into the same shape as the labels\n",
        "      y_pred = torch.round(torch.sigmoid(y_logits)) # convert logits into prediction probabilities\n",
        "\n",
        "      loss = loss_fn(y_logits, y_train) # compute the loss\n",
        "      acc = accuracy_fn(y_train.int(), y_pred) # calculate the accuracy; convert the labels to integers\n",
        "\n",
        "      optimizer.zero_grad() # reset the gradients so they don't accumulate each iteration\n",
        "      loss.backward() # backward pass: backpropagate the prediction loss\n",
        "      optimizer.step() # gradient descent: adjust the parameters by the gradients collected in the backward pass\n",
        "\n",
        "      # Put the model in evaluation mode\n",
        "      model.eval()\n",
        "\n",
        "      with torch.inference_mode():\n",
        "          valid_logits = model(x_valid).squeeze()\n",
        "          valid_pred = torch.round(torch.sigmoid(valid_logits))\n",
        "\n",
        "          valid_loss = loss_fn(valid_logits, y_valid)\n",
        "          valid_acc = accuracy_fn(y_valid.int(), valid_pred)\n",
        "\n",
        "      # Print progress a total of 20 times\n",
        "      if epoch % int(epochs / 20) == 0:\n",
        "          print(f'Epoch: {epoch:4.0f} | Train Loss: {loss:.5f}, Accuracy: {acc:.2f}% | Validation Loss: {valid_loss:.5f}, Accuracy: {valid_acc:.2f}%')\n",
        "\n",
        "          epoch_count.append(epoch)\n",
        "          train_loss_values.append(loss.detach().numpy())\n",
        "          valid_loss_values.append(valid_loss.detach().numpy())"
      ],
      "metadata": {
        "id": "x25DLOzEXD0T"
      },
      "execution_count": 64,
      "outputs": []
    },
    {
      "cell_type": "code",
      "source": [
        "data = df.pipe(preprocessing).pipe(encode_data)\n",
        "\n",
        "X = data.drop(columns=['goal'])\n",
        "y = data['goal']\n",
        "x_data, y_data = tensor_data(X), tensor_data(y)\n",
        "\n",
        "x_train, x_test, y_train, y_test = train_test_split(x_data,y_data,.25,shuffle=True)\n",
        "\n",
        "train_model(x_train, x_test, y_train, y_test,1000, 0.0001)\n"
      ],
      "metadata": {
        "colab": {
          "base_uri": "https://localhost:8080/"
        },
        "id": "ZVNCWNTAaSkJ",
        "outputId": "5bb9bae9-532d-4dcc-e3aa-c8b62cc6b55b"
      },
      "execution_count": 72,
      "outputs": [
        {
          "output_type": "stream",
          "name": "stdout",
          "text": [
            "Epoch:    0 | Train Loss: 0.54844, Accuracy: 88.68% | Validation Loss: 0.52445, Accuracy: 89.97%\n",
            "Epoch:   50 | Train Loss: 0.35239, Accuracy: 88.68% | Validation Loss: 0.32505, Accuracy: 89.97%\n",
            "Epoch:  100 | Train Loss: 0.34732, Accuracy: 88.68% | Validation Loss: 0.32066, Accuracy: 89.97%\n",
            "Epoch:  150 | Train Loss: 0.33779, Accuracy: 88.68% | Validation Loss: 0.30860, Accuracy: 89.97%\n",
            "Epoch:  200 | Train Loss: 0.31531, Accuracy: 88.68% | Validation Loss: 0.28834, Accuracy: 89.97%\n",
            "Epoch:  250 | Train Loss: 0.29884, Accuracy: 88.68% | Validation Loss: 0.26860, Accuracy: 89.97%\n",
            "Epoch:  300 | Train Loss: 0.28885, Accuracy: 88.68% | Validation Loss: 0.25458, Accuracy: 89.97%\n",
            "Epoch:  350 | Train Loss: 0.27382, Accuracy: 89.22% | Validation Loss: 0.24842, Accuracy: 89.97%\n",
            "Epoch:  400 | Train Loss: 0.25845, Accuracy: 90.58% | Validation Loss: 0.24145, Accuracy: 91.60%\n",
            "Epoch:  450 | Train Loss: 0.25244, Accuracy: 90.22% | Validation Loss: 0.24090, Accuracy: 91.06%\n",
            "Epoch:  500 | Train Loss: 0.25760, Accuracy: 90.22% | Validation Loss: 0.23539, Accuracy: 90.79%\n",
            "Epoch:  550 | Train Loss: 0.24443, Accuracy: 90.58% | Validation Loss: 0.23559, Accuracy: 90.24%\n",
            "Epoch:  600 | Train Loss: 0.23468, Accuracy: 90.13% | Validation Loss: 0.23733, Accuracy: 90.24%\n",
            "Epoch:  650 | Train Loss: 0.22871, Accuracy: 90.58% | Validation Loss: 0.23392, Accuracy: 90.51%\n",
            "Epoch:  700 | Train Loss: 0.22709, Accuracy: 91.49% | Validation Loss: 0.23896, Accuracy: 89.97%\n",
            "Epoch:  750 | Train Loss: 0.22367, Accuracy: 91.76% | Validation Loss: 0.23397, Accuracy: 90.79%\n",
            "Epoch:  800 | Train Loss: 0.21862, Accuracy: 91.67% | Validation Loss: 0.23497, Accuracy: 89.97%\n",
            "Epoch:  850 | Train Loss: 0.21091, Accuracy: 91.39% | Validation Loss: 0.23367, Accuracy: 90.24%\n",
            "Epoch:  900 | Train Loss: 0.20400, Accuracy: 91.67% | Validation Loss: 0.23492, Accuracy: 90.51%\n",
            "Epoch:  950 | Train Loss: 0.21079, Accuracy: 92.48% | Validation Loss: 0.23590, Accuracy: 90.51%\n"
          ]
        }
      ]
    },
    {
      "cell_type": "code",
      "source": [
        "# save the model\n",
        "filename = 'xg_model'\n",
        "torch.save(model, f'{PATH}/{filename}')"
      ],
      "metadata": {
        "id": "v4ig9177Fa5P"
      },
      "execution_count": 73,
      "outputs": []
    },
    {
      "cell_type": "code",
      "source": [
        "def check_columns(dataframe):\n",
        "  default_cols = ['player_x', 'player_y', 'goalMouth_y', 'goalMouth_z',\\\n",
        "                  'distanceToPostLeft', 'distanceToPostRight', 'angle', 'position_D',\\\n",
        "                  'position_F', 'position_G', 'position_M', 'situation_assisted',\\\n",
        "                  'situation_corner', 'situation_fast-break', 'situation_free-kick',\\\n",
        "                  'situation_penalty', 'situation_regular', 'situation_set-piece',\\\n",
        "                  'situation_throw-in-set-piece', 'bodyPart_head', 'bodyPart_left-foot',\\\n",
        "                  'bodyPart_other', 'bodyPart_right-foot']\n",
        "\n",
        "  for col in default_cols:\n",
        "    if col not in dataframe.columns:\n",
        "      dataframe[col] = False\n",
        "  return dataframe\n"
      ],
      "metadata": {
        "id": "seFL9VZ5gCse"
      },
      "execution_count": 78,
      "outputs": []
    },
    {
      "cell_type": "markdown",
      "source": [
        "# Test"
      ],
      "metadata": {
        "id": "C2OFlhUPpSUT"
      }
    },
    {
      "cell_type": "code",
      "source": [
        "test = torch.load(f'{PATH}/{filename}')\n",
        "\n",
        "test_data = df.iloc[:200].pipe(preprocessing).pipe(encode_data)\n",
        "\n",
        "test_data = test_data.drop(columns=['goal'])\n",
        "test_data = check_columns(test_data)\n",
        "\n",
        "data_test = tensor_data(test_data)\n",
        "\n",
        "test.eval()\n",
        "res = test(data_test).squeeze()\n",
        "test_data['xg'] = torch.sigmoid(res).detach().numpy()\n",
        "test_data['xg'] = round(test_data['xg'],3)\n",
        "test_data['goal'] = df['shotType'].iloc[:200].apply(lambda x: 1 if x=='goal' else 0)\n",
        "\n"
      ],
      "metadata": {
        "colab": {
          "base_uri": "https://localhost:8080/"
        },
        "id": "8ZZDzvxMTZMo",
        "outputId": "f9da157c-5090-4753-f72b-4d232f430359"
      },
      "execution_count": 90,
      "outputs": [
        {
          "output_type": "stream",
          "name": "stderr",
          "text": [
            "<ipython-input-90-77cf9a721698>:1: FutureWarning: You are using `torch.load` with `weights_only=False` (the current default value), which uses the default pickle module implicitly. It is possible to construct malicious pickle data which will execute arbitrary code during unpickling (See https://github.com/pytorch/pytorch/blob/main/SECURITY.md#untrusted-models for more details). In a future release, the default value for `weights_only` will be flipped to `True`. This limits the functions that could be executed during unpickling. Arbitrary objects will no longer be allowed to be loaded via this mode unless they are explicitly allowlisted by the user via `torch.serialization.add_safe_globals`. We recommend you start setting `weights_only=True` for any use case where you don't have full control of the loaded file. Please open an issue on GitHub for any issues related to this experimental feature.\n",
            "  test = torch.load(f'{PATH}/{filename}')\n"
          ]
        }
      ]
    },
    {
      "cell_type": "code",
      "source": [
        "cols_to_drop = [['position_D',\t'position_F',\t'position_M', 'position_G'],\\\n",
        "                ['situation_assisted',\t'situation_corner',\t'situation_fast-break',\t'situation_free-kick',\t'situation_penalty',\t'situation_regular',\t'situation_set-piece'\t,'situation_throw-in-set-piece'],\\\n",
        "                ['bodyPart_head',\t'bodyPart_left-foot',\t'bodyPart_other',\t'bodyPart_right-foot']]\n",
        "\n",
        "test_data['position'] = test_data[cols_to_drop[0]].idxmax(axis=1)\n",
        "test_data['position'] = test_data['position'].apply(lambda x: x[-1])\n",
        "test_data['situation'] = test_data[cols_to_drop[1]].idxmax(axis=1)\n",
        "test_data['situation'] = test_data['situation'].apply(lambda x: x.split('_')[1])\n",
        "test_data['bodyPart'] = test_data[cols_to_drop[2]].idxmax(axis=1)\n",
        "test_data['bodyPart'] = test_data['bodyPart'].apply(lambda x: x.split('_')[1])\n",
        "\n",
        "test_data.drop(columns=cols_to_drop[0]+cols_to_drop[1]+cols_to_drop[2],inplace=True)"
      ],
      "metadata": {
        "id": "g3e-2SnLfoeq"
      },
      "execution_count": 92,
      "outputs": []
    },
    {
      "cell_type": "code",
      "source": [
        "test_data.head(n=5)"
      ],
      "metadata": {
        "colab": {
          "base_uri": "https://localhost:8080/",
          "height": 206
        },
        "id": "vzhPlhsxfde8",
        "outputId": "937e8eef-6cd0-436d-ff53-6a2b56dd8601"
      },
      "execution_count": 113,
      "outputs": [
        {
          "output_type": "execute_result",
          "data": {
            "text/plain": [
              "   player_x  player_y  goalMouth_y  goalMouth_z  distanceToPostLeft  \\\n",
              "0    14.832    43.392       30.144          7.6           16.571961   \n",
              "1    41.328    44.416       31.296         75.0           42.176209   \n",
              "2    28.368    21.120       34.176          5.7           32.033698   \n",
              "3    16.560    40.384       33.344         80.6           17.130472   \n",
              "4    13.680    36.672       29.696         13.3           13.696495   \n",
              "\n",
              "   distanceToPostRight      angle     xg  goal position  situation    bodyPart  \n",
              "0            14.844456  28.838214  0.017     0        F   assisted        head  \n",
              "1            41.330094  10.933572  0.001     0        M  free-kick  right-foot  \n",
              "2            36.444997  11.209086  0.042     1        F   assisted  right-foot  \n",
              "3            16.950193  27.145625  0.001     0        M   assisted  right-foot  \n",
              "4            15.519085  30.988999  0.529     0        F   assisted  right-foot  "
            ],
            "text/html": [
              "\n",
              "  <div id=\"df-24134551-1510-407f-9469-021e8c698b5f\" class=\"colab-df-container\">\n",
              "    <div>\n",
              "<style scoped>\n",
              "    .dataframe tbody tr th:only-of-type {\n",
              "        vertical-align: middle;\n",
              "    }\n",
              "\n",
              "    .dataframe tbody tr th {\n",
              "        vertical-align: top;\n",
              "    }\n",
              "\n",
              "    .dataframe thead th {\n",
              "        text-align: right;\n",
              "    }\n",
              "</style>\n",
              "<table border=\"1\" class=\"dataframe\">\n",
              "  <thead>\n",
              "    <tr style=\"text-align: right;\">\n",
              "      <th></th>\n",
              "      <th>player_x</th>\n",
              "      <th>player_y</th>\n",
              "      <th>goalMouth_y</th>\n",
              "      <th>goalMouth_z</th>\n",
              "      <th>distanceToPostLeft</th>\n",
              "      <th>distanceToPostRight</th>\n",
              "      <th>angle</th>\n",
              "      <th>xg</th>\n",
              "      <th>goal</th>\n",
              "      <th>position</th>\n",
              "      <th>situation</th>\n",
              "      <th>bodyPart</th>\n",
              "    </tr>\n",
              "  </thead>\n",
              "  <tbody>\n",
              "    <tr>\n",
              "      <th>0</th>\n",
              "      <td>14.832</td>\n",
              "      <td>43.392</td>\n",
              "      <td>30.144</td>\n",
              "      <td>7.6</td>\n",
              "      <td>16.571961</td>\n",
              "      <td>14.844456</td>\n",
              "      <td>28.838214</td>\n",
              "      <td>0.017</td>\n",
              "      <td>0</td>\n",
              "      <td>F</td>\n",
              "      <td>assisted</td>\n",
              "      <td>head</td>\n",
              "    </tr>\n",
              "    <tr>\n",
              "      <th>1</th>\n",
              "      <td>41.328</td>\n",
              "      <td>44.416</td>\n",
              "      <td>31.296</td>\n",
              "      <td>75.0</td>\n",
              "      <td>42.176209</td>\n",
              "      <td>41.330094</td>\n",
              "      <td>10.933572</td>\n",
              "      <td>0.001</td>\n",
              "      <td>0</td>\n",
              "      <td>M</td>\n",
              "      <td>free-kick</td>\n",
              "      <td>right-foot</td>\n",
              "    </tr>\n",
              "    <tr>\n",
              "      <th>2</th>\n",
              "      <td>28.368</td>\n",
              "      <td>21.120</td>\n",
              "      <td>34.176</td>\n",
              "      <td>5.7</td>\n",
              "      <td>32.033698</td>\n",
              "      <td>36.444997</td>\n",
              "      <td>11.209086</td>\n",
              "      <td>0.042</td>\n",
              "      <td>1</td>\n",
              "      <td>F</td>\n",
              "      <td>assisted</td>\n",
              "      <td>right-foot</td>\n",
              "    </tr>\n",
              "    <tr>\n",
              "      <th>3</th>\n",
              "      <td>16.560</td>\n",
              "      <td>40.384</td>\n",
              "      <td>33.344</td>\n",
              "      <td>80.6</td>\n",
              "      <td>17.130472</td>\n",
              "      <td>16.950193</td>\n",
              "      <td>27.145625</td>\n",
              "      <td>0.001</td>\n",
              "      <td>0</td>\n",
              "      <td>M</td>\n",
              "      <td>assisted</td>\n",
              "      <td>right-foot</td>\n",
              "    </tr>\n",
              "    <tr>\n",
              "      <th>4</th>\n",
              "      <td>13.680</td>\n",
              "      <td>36.672</td>\n",
              "      <td>29.696</td>\n",
              "      <td>13.3</td>\n",
              "      <td>13.696495</td>\n",
              "      <td>15.519085</td>\n",
              "      <td>30.988999</td>\n",
              "      <td>0.529</td>\n",
              "      <td>0</td>\n",
              "      <td>F</td>\n",
              "      <td>assisted</td>\n",
              "      <td>right-foot</td>\n",
              "    </tr>\n",
              "  </tbody>\n",
              "</table>\n",
              "</div>\n",
              "    <div class=\"colab-df-buttons\">\n",
              "\n",
              "  <div class=\"colab-df-container\">\n",
              "    <button class=\"colab-df-convert\" onclick=\"convertToInteractive('df-24134551-1510-407f-9469-021e8c698b5f')\"\n",
              "            title=\"Convert this dataframe to an interactive table.\"\n",
              "            style=\"display:none;\">\n",
              "\n",
              "  <svg xmlns=\"http://www.w3.org/2000/svg\" height=\"24px\" viewBox=\"0 -960 960 960\">\n",
              "    <path d=\"M120-120v-720h720v720H120Zm60-500h600v-160H180v160Zm220 220h160v-160H400v160Zm0 220h160v-160H400v160ZM180-400h160v-160H180v160Zm440 0h160v-160H620v160ZM180-180h160v-160H180v160Zm440 0h160v-160H620v160Z\"/>\n",
              "  </svg>\n",
              "    </button>\n",
              "\n",
              "  <style>\n",
              "    .colab-df-container {\n",
              "      display:flex;\n",
              "      gap: 12px;\n",
              "    }\n",
              "\n",
              "    .colab-df-convert {\n",
              "      background-color: #E8F0FE;\n",
              "      border: none;\n",
              "      border-radius: 50%;\n",
              "      cursor: pointer;\n",
              "      display: none;\n",
              "      fill: #1967D2;\n",
              "      height: 32px;\n",
              "      padding: 0 0 0 0;\n",
              "      width: 32px;\n",
              "    }\n",
              "\n",
              "    .colab-df-convert:hover {\n",
              "      background-color: #E2EBFA;\n",
              "      box-shadow: 0px 1px 2px rgba(60, 64, 67, 0.3), 0px 1px 3px 1px rgba(60, 64, 67, 0.15);\n",
              "      fill: #174EA6;\n",
              "    }\n",
              "\n",
              "    .colab-df-buttons div {\n",
              "      margin-bottom: 4px;\n",
              "    }\n",
              "\n",
              "    [theme=dark] .colab-df-convert {\n",
              "      background-color: #3B4455;\n",
              "      fill: #D2E3FC;\n",
              "    }\n",
              "\n",
              "    [theme=dark] .colab-df-convert:hover {\n",
              "      background-color: #434B5C;\n",
              "      box-shadow: 0px 1px 3px 1px rgba(0, 0, 0, 0.15);\n",
              "      filter: drop-shadow(0px 1px 2px rgba(0, 0, 0, 0.3));\n",
              "      fill: #FFFFFF;\n",
              "    }\n",
              "  </style>\n",
              "\n",
              "    <script>\n",
              "      const buttonEl =\n",
              "        document.querySelector('#df-24134551-1510-407f-9469-021e8c698b5f button.colab-df-convert');\n",
              "      buttonEl.style.display =\n",
              "        google.colab.kernel.accessAllowed ? 'block' : 'none';\n",
              "\n",
              "      async function convertToInteractive(key) {\n",
              "        const element = document.querySelector('#df-24134551-1510-407f-9469-021e8c698b5f');\n",
              "        const dataTable =\n",
              "          await google.colab.kernel.invokeFunction('convertToInteractive',\n",
              "                                                    [key], {});\n",
              "        if (!dataTable) return;\n",
              "\n",
              "        const docLinkHtml = 'Like what you see? Visit the ' +\n",
              "          '<a target=\"_blank\" href=https://colab.research.google.com/notebooks/data_table.ipynb>data table notebook</a>'\n",
              "          + ' to learn more about interactive tables.';\n",
              "        element.innerHTML = '';\n",
              "        dataTable['output_type'] = 'display_data';\n",
              "        await google.colab.output.renderOutput(dataTable, element);\n",
              "        const docLink = document.createElement('div');\n",
              "        docLink.innerHTML = docLinkHtml;\n",
              "        element.appendChild(docLink);\n",
              "      }\n",
              "    </script>\n",
              "  </div>\n",
              "\n",
              "\n",
              "<div id=\"df-36c5666a-0255-43ec-a275-358483681ff9\">\n",
              "  <button class=\"colab-df-quickchart\" onclick=\"quickchart('df-36c5666a-0255-43ec-a275-358483681ff9')\"\n",
              "            title=\"Suggest charts\"\n",
              "            style=\"display:none;\">\n",
              "\n",
              "<svg xmlns=\"http://www.w3.org/2000/svg\" height=\"24px\"viewBox=\"0 0 24 24\"\n",
              "     width=\"24px\">\n",
              "    <g>\n",
              "        <path d=\"M19 3H5c-1.1 0-2 .9-2 2v14c0 1.1.9 2 2 2h14c1.1 0 2-.9 2-2V5c0-1.1-.9-2-2-2zM9 17H7v-7h2v7zm4 0h-2V7h2v10zm4 0h-2v-4h2v4z\"/>\n",
              "    </g>\n",
              "</svg>\n",
              "  </button>\n",
              "\n",
              "<style>\n",
              "  .colab-df-quickchart {\n",
              "      --bg-color: #E8F0FE;\n",
              "      --fill-color: #1967D2;\n",
              "      --hover-bg-color: #E2EBFA;\n",
              "      --hover-fill-color: #174EA6;\n",
              "      --disabled-fill-color: #AAA;\n",
              "      --disabled-bg-color: #DDD;\n",
              "  }\n",
              "\n",
              "  [theme=dark] .colab-df-quickchart {\n",
              "      --bg-color: #3B4455;\n",
              "      --fill-color: #D2E3FC;\n",
              "      --hover-bg-color: #434B5C;\n",
              "      --hover-fill-color: #FFFFFF;\n",
              "      --disabled-bg-color: #3B4455;\n",
              "      --disabled-fill-color: #666;\n",
              "  }\n",
              "\n",
              "  .colab-df-quickchart {\n",
              "    background-color: var(--bg-color);\n",
              "    border: none;\n",
              "    border-radius: 50%;\n",
              "    cursor: pointer;\n",
              "    display: none;\n",
              "    fill: var(--fill-color);\n",
              "    height: 32px;\n",
              "    padding: 0;\n",
              "    width: 32px;\n",
              "  }\n",
              "\n",
              "  .colab-df-quickchart:hover {\n",
              "    background-color: var(--hover-bg-color);\n",
              "    box-shadow: 0 1px 2px rgba(60, 64, 67, 0.3), 0 1px 3px 1px rgba(60, 64, 67, 0.15);\n",
              "    fill: var(--button-hover-fill-color);\n",
              "  }\n",
              "\n",
              "  .colab-df-quickchart-complete:disabled,\n",
              "  .colab-df-quickchart-complete:disabled:hover {\n",
              "    background-color: var(--disabled-bg-color);\n",
              "    fill: var(--disabled-fill-color);\n",
              "    box-shadow: none;\n",
              "  }\n",
              "\n",
              "  .colab-df-spinner {\n",
              "    border: 2px solid var(--fill-color);\n",
              "    border-color: transparent;\n",
              "    border-bottom-color: var(--fill-color);\n",
              "    animation:\n",
              "      spin 1s steps(1) infinite;\n",
              "  }\n",
              "\n",
              "  @keyframes spin {\n",
              "    0% {\n",
              "      border-color: transparent;\n",
              "      border-bottom-color: var(--fill-color);\n",
              "      border-left-color: var(--fill-color);\n",
              "    }\n",
              "    20% {\n",
              "      border-color: transparent;\n",
              "      border-left-color: var(--fill-color);\n",
              "      border-top-color: var(--fill-color);\n",
              "    }\n",
              "    30% {\n",
              "      border-color: transparent;\n",
              "      border-left-color: var(--fill-color);\n",
              "      border-top-color: var(--fill-color);\n",
              "      border-right-color: var(--fill-color);\n",
              "    }\n",
              "    40% {\n",
              "      border-color: transparent;\n",
              "      border-right-color: var(--fill-color);\n",
              "      border-top-color: var(--fill-color);\n",
              "    }\n",
              "    60% {\n",
              "      border-color: transparent;\n",
              "      border-right-color: var(--fill-color);\n",
              "    }\n",
              "    80% {\n",
              "      border-color: transparent;\n",
              "      border-right-color: var(--fill-color);\n",
              "      border-bottom-color: var(--fill-color);\n",
              "    }\n",
              "    90% {\n",
              "      border-color: transparent;\n",
              "      border-bottom-color: var(--fill-color);\n",
              "    }\n",
              "  }\n",
              "</style>\n",
              "\n",
              "  <script>\n",
              "    async function quickchart(key) {\n",
              "      const quickchartButtonEl =\n",
              "        document.querySelector('#' + key + ' button');\n",
              "      quickchartButtonEl.disabled = true;  // To prevent multiple clicks.\n",
              "      quickchartButtonEl.classList.add('colab-df-spinner');\n",
              "      try {\n",
              "        const charts = await google.colab.kernel.invokeFunction(\n",
              "            'suggestCharts', [key], {});\n",
              "      } catch (error) {\n",
              "        console.error('Error during call to suggestCharts:', error);\n",
              "      }\n",
              "      quickchartButtonEl.classList.remove('colab-df-spinner');\n",
              "      quickchartButtonEl.classList.add('colab-df-quickchart-complete');\n",
              "    }\n",
              "    (() => {\n",
              "      let quickchartButtonEl =\n",
              "        document.querySelector('#df-36c5666a-0255-43ec-a275-358483681ff9 button');\n",
              "      quickchartButtonEl.style.display =\n",
              "        google.colab.kernel.accessAllowed ? 'block' : 'none';\n",
              "    })();\n",
              "  </script>\n",
              "</div>\n",
              "\n",
              "    </div>\n",
              "  </div>\n"
            ],
            "application/vnd.google.colaboratory.intrinsic+json": {
              "type": "dataframe",
              "variable_name": "test_data",
              "summary": "{\n  \"name\": \"test_data\",\n  \"rows\": 200,\n  \"fields\": [\n    {\n      \"column\": \"player_x\",\n      \"properties\": {\n        \"dtype\": \"number\",\n        \"std\": 13.62292073117358,\n        \"min\": 1.728,\n        \"max\": 78.47999999999989,\n        \"num_unique_values\": 152,\n        \"samples\": [\n          14.543999999999999,\n          8.783999999999986,\n          7.4879999999999995\n        ],\n        \"semantic_type\": \"\",\n        \"description\": \"\"\n      }\n    },\n    {\n      \"column\": \"player_y\",\n      \"properties\": {\n        \"dtype\": \"number\",\n        \"std\": 8.306022002252913,\n        \"min\": 14.080000000000002,\n        \"max\": 50.88,\n        \"num_unique_values\": 158,\n        \"samples\": [\n          43.648,\n          45.632000000000005,\n          36.928\n        ],\n        \"semantic_type\": \"\",\n        \"description\": \"\"\n      }\n    },\n    {\n      \"column\": \"goalMouth_y\",\n      \"properties\": {\n        \"dtype\": \"number\",\n        \"std\": 6.545393605709927,\n        \"min\": 0.4479999999999993,\n        \"max\": 62.464,\n        \"num_unique_values\": 122,\n        \"samples\": [\n          38.080000000000005,\n          36.224000000000004,\n          31.04\n        ],\n        \"semantic_type\": \"\",\n        \"description\": \"\"\n      }\n    },\n    {\n      \"column\": \"goalMouth_z\",\n      \"properties\": {\n        \"dtype\": \"number\",\n        \"std\": 22.745025271982346,\n        \"min\": 0.6,\n        \"max\": 95.8,\n        \"num_unique_values\": 81,\n        \"samples\": [\n          5.6,\n          7.6,\n          81.9\n        ],\n        \"semantic_type\": \"\",\n        \"description\": \"\"\n      }\n    },\n    {\n      \"column\": \"distanceToPostLeft\",\n      \"properties\": {\n        \"dtype\": \"number\",\n        \"std\": 13.17923513544692,\n        \"min\": 2.802741515017037,\n        \"max\": 79.05337700566612,\n        \"num_unique_values\": 198,\n        \"samples\": [\n          41.61660284069328,\n          7.507734678316756,\n          30.300096897534832\n        ],\n        \"semantic_type\": \"\",\n        \"description\": \"\"\n      }\n    },\n    {\n      \"column\": \"distanceToPostRight\",\n      \"properties\": {\n        \"dtype\": \"number\",\n        \"std\": 12.84866852766633,\n        \"min\": 4.610776941037161,\n        \"max\": 78.49441009396773,\n        \"num_unique_values\": 198,\n        \"samples\": [\n          42.336244897250864,\n          10.567027964380522,\n          32.877224213731914\n        ],\n        \"semantic_type\": \"\",\n        \"description\": \"\"\n      }\n    },\n    {\n      \"column\": \"angle\",\n      \"properties\": {\n        \"dtype\": \"number\",\n        \"std\": 12.454642253635237,\n        \"min\": 5.584578300523882,\n        \"max\": 84.1570711831534,\n        \"num_unique_values\": 198,\n        \"samples\": [\n          10.892134811049669,\n          49.03252495774566,\n          13.781582126187557\n        ],\n        \"semantic_type\": \"\",\n        \"description\": \"\"\n      }\n    },\n    {\n      \"column\": \"xg\",\n      \"properties\": {\n        \"dtype\": \"float32\",\n        \"num_unique_values\": 99,\n        \"samples\": [\n          0.3310000002384186,\n          0.6000000238418579,\n          0.20900000631809235\n        ],\n        \"semantic_type\": \"\",\n        \"description\": \"\"\n      }\n    },\n    {\n      \"column\": \"goal\",\n      \"properties\": {\n        \"dtype\": \"number\",\n        \"std\": 0,\n        \"min\": 0,\n        \"max\": 1,\n        \"num_unique_values\": 2,\n        \"samples\": [\n          1,\n          0\n        ],\n        \"semantic_type\": \"\",\n        \"description\": \"\"\n      }\n    },\n    {\n      \"column\": \"position\",\n      \"properties\": {\n        \"dtype\": \"category\",\n        \"num_unique_values\": 3,\n        \"samples\": [\n          \"F\",\n          \"M\"\n        ],\n        \"semantic_type\": \"\",\n        \"description\": \"\"\n      }\n    },\n    {\n      \"column\": \"situation\",\n      \"properties\": {\n        \"dtype\": \"category\",\n        \"num_unique_values\": 8,\n        \"samples\": [\n          \"free-kick\",\n          \"set-piece\"\n        ],\n        \"semantic_type\": \"\",\n        \"description\": \"\"\n      }\n    },\n    {\n      \"column\": \"bodyPart\",\n      \"properties\": {\n        \"dtype\": \"category\",\n        \"num_unique_values\": 4,\n        \"samples\": [\n          \"right-foot\",\n          \"other\"\n        ],\n        \"semantic_type\": \"\",\n        \"description\": \"\"\n      }\n    }\n  ]\n}"
            }
          },
          "metadata": {},
          "execution_count": 113
        }
      ]
    },
    {
      "cell_type": "markdown",
      "source": [
        "# Visualizations"
      ],
      "metadata": {
        "id": "-dFn9y6QowVj"
      }
    },
    {
      "cell_type": "code",
      "source": [
        "!pip install mplsoccer --quiet"
      ],
      "metadata": {
        "colab": {
          "base_uri": "https://localhost:8080/"
        },
        "id": "HiJ0v93Vk6hJ",
        "outputId": "255b64ae-a789-4969-d073-9d03bfd4ce96"
      },
      "execution_count": 95,
      "outputs": [
        {
          "output_type": "stream",
          "name": "stdout",
          "text": [
            "\u001b[?25l   \u001b[90m━━━━━━━━━━━━━━━━━━━━━━━━━━━━━━━━━━━━━━━━\u001b[0m \u001b[32m0.0/85.8 kB\u001b[0m \u001b[31m?\u001b[0m eta \u001b[36m-:--:--\u001b[0m\r\u001b[2K   \u001b[90m━━━━━━━━━━━━━━━━━━━━━━━━━━━━━━━━━━━━━━━━\u001b[0m \u001b[32m85.8/85.8 kB\u001b[0m \u001b[31m6.8 MB/s\u001b[0m eta \u001b[36m0:00:00\u001b[0m\n",
            "\u001b[?25h"
          ]
        }
      ]
    },
    {
      "cell_type": "code",
      "source": [
        "from mplsoccer import VerticalPitch, Pitch"
      ],
      "metadata": {
        "id": "_TTVNeJ6khEG"
      },
      "execution_count": 96,
      "outputs": []
    },
    {
      "cell_type": "code",
      "source": [
        "pitch = VerticalPitch(half=True, goal_type='box',line_color='black',stripe=True)\n",
        "fig, ax = pitch.draw()\n",
        "goals = test_data.loc[test_data['goal']==1][:50]\n",
        "non_goals = test_data.loc[test_data['goal']==0][:50]\n",
        "\n",
        "pitch.scatter(120-goals['player_x'],goals['player_y'],ax=ax, c='#00b4d8', s = goals['xg']*300, marker='h')\n",
        "pitch.scatter(120-non_goals['player_x'],non_goals['player_y'],ax=ax, c='none', edgecolor='salmon', s = non_goals['xg']*300)"
      ],
      "metadata": {
        "colab": {
          "base_uri": "https://localhost:8080/",
          "height": 505
        },
        "id": "jVuTZiJPk-PC",
        "outputId": "ff20b7db-15c1-492f-83c7-7c351dae83a5"
      },
      "execution_count": 123,
      "outputs": [
        {
          "output_type": "execute_result",
          "data": {
            "text/plain": [
              "<matplotlib.collections.PathCollection at 0x7ed9e4d71110>"
            ]
          },
          "metadata": {},
          "execution_count": 123
        },
        {
          "output_type": "display_data",
          "data": {
            "text/plain": [
              "<Figure size 640x480 with 1 Axes>"
            ],
            "image/png": "[encoded data removed]"
          },
          "metadata": {}
        }
      ]
    },
    {
      "cell_type": "code",
      "source": [],
      "metadata": {
        "id": "vpqDl1qulHRB"
      },
      "execution_count": null,
      "outputs": []
    }
  ]
}